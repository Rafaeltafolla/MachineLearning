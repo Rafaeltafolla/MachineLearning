{
  "nbformat": 4,
  "nbformat_minor": 0,
  "metadata": {
    "colab": {
      "private_outputs": true,
      "provenance": [],
      "include_colab_link": true
    },
    "kernelspec": {
      "name": "python3",
      "display_name": "Python 3"
    },
    "language_info": {
      "name": "python"
    }
  },
  "cells": [
    {
      "cell_type": "markdown",
      "metadata": {
        "id": "view-in-github",
        "colab_type": "text"
      },
      "source": [
        "<a href=\"https://colab.research.google.com/github/Rafaeltafolla/MachineLearning/blob/main/PIPELINES.ipynb\" target=\"_parent\"><img src=\"https://colab.research.google.com/assets/colab-badge.svg\" alt=\"Open In Colab\"/></a>"
      ]
    },
    {
      "cell_type": "code",
      "execution_count": null,
      "metadata": {
        "id": "XteIgKWIr2Ol"
      },
      "outputs": [],
      "source": [
        "import numpy as np\n",
        "import pandas as pd\n",
        "\n",
        "from sklearn.pipeline import Pipeline,make_pipeline\n",
        "from sklearn.metrics import accuracy_score\n",
        "from sklearn.svm import SVC"
      ]
    },
    {
      "cell_type": "markdown",
      "source": [
        "DATASETS\n"
      ],
      "metadata": {
        "id": "Daptl1z5tFDh"
      }
    },
    {
      "cell_type": "code",
      "source": [
        "from sklearn.datasets import load_wine\n",
        "\n",
        "data=load_wine()\n",
        "\n",
        "df=pd.DataFrame(data=data.data,columns=data.feature_names)\n",
        "\n",
        "df"
      ],
      "metadata": {
        "id": "j_FlIQQgtH5o"
      },
      "execution_count": null,
      "outputs": []
    },
    {
      "cell_type": "code",
      "source": [
        "X=df\n",
        "Y=data.target"
      ],
      "metadata": {
        "id": "PHGR1N_JtdWI"
      },
      "execution_count": null,
      "outputs": []
    },
    {
      "cell_type": "code",
      "source": [
        "from sklearn.model_selection import train_test_split\n",
        "x_train,x_test,y_train,y_test = train_test_split(X,Y)"
      ],
      "metadata": {
        "id": "W6_CUMrOuid-"
      },
      "execution_count": null,
      "outputs": []
    },
    {
      "cell_type": "code",
      "source": [
        "from sklearn.preprocessing import StandardScaler\n",
        "pipe = Pipeline([\n",
        "('scaler',StandardScaler()),\n",
        "('svc',SVC())\n",
        "])"
      ],
      "metadata": {
        "id": "UeoIVcanvDuQ"
      },
      "execution_count": null,
      "outputs": []
    },
    {
      "cell_type": "code",
      "source": [
        "pipe"
      ],
      "metadata": {
        "id": "hXCQfwDTvVJW"
      },
      "execution_count": null,
      "outputs": []
    },
    {
      "cell_type": "code",
      "source": [
        "pipe.fit(x_train,y_train)"
      ],
      "metadata": {
        "id": "cDofDuM7vp-Q"
      },
      "execution_count": null,
      "outputs": []
    },
    {
      "cell_type": "code",
      "source": [
        "y_predit=pipe.predict(x_test)\n",
        "y_predit"
      ],
      "metadata": {
        "id": "7EBiDkB4vziC"
      },
      "execution_count": null,
      "outputs": []
    },
    {
      "cell_type": "code",
      "source": [
        "accuracy_score(y_predit,y_test)"
      ],
      "metadata": {
        "id": "ljPHR9cRwBRk"
      },
      "execution_count": null,
      "outputs": []
    },
    {
      "cell_type": "code",
      "source": [
        "df = pd.read_csv('https://gist.githubusercontent.com/javierIA/dee51cb04824e519cb113b49897b84bb/raw/f78307e58718bebaafe566ad725b17a6298c803a/spam.csv')"
      ],
      "metadata": {
        "id": "jv_QyulBxcXK"
      },
      "execution_count": null,
      "outputs": []
    },
    {
      "cell_type": "code",
      "source": [
        "df.head()"
      ],
      "metadata": {
        "id": "IPhy8Wy0xfJ9"
      },
      "execution_count": null,
      "outputs": []
    },
    {
      "cell_type": "code",
      "source": [
        "X=df['Message']\n",
        "Y=df['Category']\n",
        "\n",
        "\n",
        "x_train,x_test,y_train,y_test = train_test_split(X,Y)"
      ],
      "metadata": {
        "id": "qVxeQVTlxmhr"
      },
      "execution_count": null,
      "outputs": []
    },
    {
      "cell_type": "code",
      "source": [
        "from sklearn.pipeline import FeatureUnion\n",
        "from sklearn.feature_extraction.text import TfidfVectorizer\n",
        "from sklearn.preprocessing import FunctionTransformer\n",
        "\n",
        "\n"
      ],
      "metadata": {
        "id": "QcCaq2gix4kQ"
      },
      "execution_count": null,
      "outputs": []
    },
    {
      "cell_type": "code",
      "source": [
        "#// enviar en for de lista\n",
        "def get_text_length(x):\n",
        "  return np.array([len(t) for t in x ]).reshape(-1,1)"
      ],
      "metadata": {
        "id": "V-k1k005zMZk"
      },
      "execution_count": null,
      "outputs": []
    },
    {
      "cell_type": "code",
      "source": [
        "prueba=[\"javier\",\"j\",\"13\"]"
      ],
      "metadata": {
        "id": "umD6kwchzxcY"
      },
      "execution_count": null,
      "outputs": []
    },
    {
      "cell_type": "code",
      "source": [
        "preprocessor = FeatureUnion([\n",
        "    ('tf-idf', TfidfVectorizer()),\n",
        "    ('length', FunctionTransformer(get_text_length, validate=False))\n",
        "])"
      ],
      "metadata": {
        "id": "v6iPj4o10xxg"
      },
      "execution_count": null,
      "outputs": []
    },
    {
      "cell_type": "code",
      "source": [
        "\n",
        "pipe = make_pipeline(preprocessor,SVC())\n",
        "pipe"
      ],
      "metadata": {
        "id": "mVH2GN9h09jT"
      },
      "execution_count": null,
      "outputs": []
    },
    {
      "cell_type": "code",
      "source": [
        "pipe.fit(x_train,y_train)"
      ],
      "metadata": {
        "id": "eHsgAIO32ydr"
      },
      "execution_count": null,
      "outputs": []
    },
    {
      "cell_type": "code",
      "source": [
        "y_predit=pipe.predict(x_test)\n",
        "accuracy_score(y_test,y_predit)"
      ],
      "metadata": {
        "id": "iizBiY4K42HH"
      },
      "execution_count": null,
      "outputs": []
    }
  ]
}