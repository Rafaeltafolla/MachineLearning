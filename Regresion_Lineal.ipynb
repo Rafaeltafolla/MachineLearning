{
  "cells": [
    {
      "cell_type": "markdown",
      "metadata": {
        "id": "view-in-github",
        "colab_type": "text"
      },
      "source": [
        "<a href=\"https://colab.research.google.com/github/Rafaeltafolla/MachineLearning/blob/main/Regresion_Lineal.ipynb\" target=\"_parent\"><img src=\"https://colab.research.google.com/assets/colab-badge.svg\" alt=\"Open In Colab\"/></a>"
      ]
    },
    {
      "cell_type": "code",
      "execution_count": null,
      "metadata": {
        "colab": {
          "background_save": true
        },
        "id": "Qfe8o61D0szF"
      },
      "outputs": [],
      "source": [
        "import numpy as np\n",
        "import pandas as pd\n"
      ]
    },
    {
      "cell_type": "code",
      "execution_count": null,
      "metadata": {
        "id": "cAPItixW0-lM"
      },
      "outputs": [],
      "source": [
        "dataframe=pd.read_csv(\"https://gist.githubusercontent.com/javierIA/154c66e57da3915c75de447998c19822/raw/264cbe2e8ce1a5310d58d089c45c15a33057162b/datos.csv\")"
      ]
    },
    {
      "cell_type": "code",
      "execution_count": null,
      "metadata": {
        "colab": {
          "base_uri": "https://localhost:8080/"
        },
        "id": "-YVUTHUo1qlg",
        "outputId": "a752c7a4-16e4-4026-c93c-4446e0965748"
      },
      "outputs": [
        {
          "name": "stdout",
          "output_type": "stream",
          "text": [
            "    Gasto en Publicidad        Ventas\n",
            "0            593.932154  26105.234131\n",
            "1            743.670430  36153.420339\n",
            "2            642.487038  30554.035033\n",
            "3            590.394865  28936.021218\n",
            "4            481.289319  22072.792618\n",
            "..                  ...           ...\n",
            "95           264.872226  12675.690453\n",
            "96           627.861641  27308.879490\n",
            "97           118.096792   6517.410585\n",
            "98           846.046026  34758.209585\n",
            "99           104.225929   5623.688753\n",
            "\n",
            "[100 rows x 2 columns]\n"
          ]
        }
      ],
      "source": [
        "print(dataframe)"
      ]
    },
    {
      "cell_type": "code",
      "execution_count": null,
      "metadata": {
        "colab": {
          "base_uri": "https://localhost:8080/",
          "height": 423
        },
        "id": "d1s6IHEq11yr",
        "outputId": "46908dbf-007a-4b76-ec5c-cb98047a75fe"
      },
      "outputs": [
        {
          "data": {
            "text/html": [
              "\n",
              "  <div id=\"df-481b4529-0c85-4b6a-9a4a-a69feab29a0d\">\n",
              "    <div class=\"colab-df-container\">\n",
              "      <div>\n",
              "<style scoped>\n",
              "    .dataframe tbody tr th:only-of-type {\n",
              "        vertical-align: middle;\n",
              "    }\n",
              "\n",
              "    .dataframe tbody tr th {\n",
              "        vertical-align: top;\n",
              "    }\n",
              "\n",
              "    .dataframe thead th {\n",
              "        text-align: right;\n",
              "    }\n",
              "</style>\n",
              "<table border=\"1\" class=\"dataframe\">\n",
              "  <thead>\n",
              "    <tr style=\"text-align: right;\">\n",
              "      <th></th>\n",
              "      <th>Gasto en Publicidad</th>\n",
              "    </tr>\n",
              "  </thead>\n",
              "  <tbody>\n",
              "    <tr>\n",
              "      <th>0</th>\n",
              "      <td>593.932154</td>\n",
              "    </tr>\n",
              "    <tr>\n",
              "      <th>1</th>\n",
              "      <td>743.670430</td>\n",
              "    </tr>\n",
              "    <tr>\n",
              "      <th>2</th>\n",
              "      <td>642.487038</td>\n",
              "    </tr>\n",
              "    <tr>\n",
              "      <th>3</th>\n",
              "      <td>590.394865</td>\n",
              "    </tr>\n",
              "    <tr>\n",
              "      <th>4</th>\n",
              "      <td>481.289319</td>\n",
              "    </tr>\n",
              "    <tr>\n",
              "      <th>...</th>\n",
              "      <td>...</td>\n",
              "    </tr>\n",
              "    <tr>\n",
              "      <th>95</th>\n",
              "      <td>264.872226</td>\n",
              "    </tr>\n",
              "    <tr>\n",
              "      <th>96</th>\n",
              "      <td>627.861641</td>\n",
              "    </tr>\n",
              "    <tr>\n",
              "      <th>97</th>\n",
              "      <td>118.096792</td>\n",
              "    </tr>\n",
              "    <tr>\n",
              "      <th>98</th>\n",
              "      <td>846.046026</td>\n",
              "    </tr>\n",
              "    <tr>\n",
              "      <th>99</th>\n",
              "      <td>104.225929</td>\n",
              "    </tr>\n",
              "  </tbody>\n",
              "</table>\n",
              "<p>100 rows × 1 columns</p>\n",
              "</div>\n",
              "      <button class=\"colab-df-convert\" onclick=\"convertToInteractive('df-481b4529-0c85-4b6a-9a4a-a69feab29a0d')\"\n",
              "              title=\"Convert this dataframe to an interactive table.\"\n",
              "              style=\"display:none;\">\n",
              "        \n",
              "  <svg xmlns=\"http://www.w3.org/2000/svg\" height=\"24px\"viewBox=\"0 0 24 24\"\n",
              "       width=\"24px\">\n",
              "    <path d=\"M0 0h24v24H0V0z\" fill=\"none\"/>\n",
              "    <path d=\"M18.56 5.44l.94 2.06.94-2.06 2.06-.94-2.06-.94-.94-2.06-.94 2.06-2.06.94zm-11 1L8.5 8.5l.94-2.06 2.06-.94-2.06-.94L8.5 2.5l-.94 2.06-2.06.94zm10 10l.94 2.06.94-2.06 2.06-.94-2.06-.94-.94-2.06-.94 2.06-2.06.94z\"/><path d=\"M17.41 7.96l-1.37-1.37c-.4-.4-.92-.59-1.43-.59-.52 0-1.04.2-1.43.59L10.3 9.45l-7.72 7.72c-.78.78-.78 2.05 0 2.83L4 21.41c.39.39.9.59 1.41.59.51 0 1.02-.2 1.41-.59l7.78-7.78 2.81-2.81c.8-.78.8-2.07 0-2.86zM5.41 20L4 18.59l7.72-7.72 1.47 1.35L5.41 20z\"/>\n",
              "  </svg>\n",
              "      </button>\n",
              "      \n",
              "  <style>\n",
              "    .colab-df-container {\n",
              "      display:flex;\n",
              "      flex-wrap:wrap;\n",
              "      gap: 12px;\n",
              "    }\n",
              "\n",
              "    .colab-df-convert {\n",
              "      background-color: #E8F0FE;\n",
              "      border: none;\n",
              "      border-radius: 50%;\n",
              "      cursor: pointer;\n",
              "      display: none;\n",
              "      fill: #1967D2;\n",
              "      height: 32px;\n",
              "      padding: 0 0 0 0;\n",
              "      width: 32px;\n",
              "    }\n",
              "\n",
              "    .colab-df-convert:hover {\n",
              "      background-color: #E2EBFA;\n",
              "      box-shadow: 0px 1px 2px rgba(60, 64, 67, 0.3), 0px 1px 3px 1px rgba(60, 64, 67, 0.15);\n",
              "      fill: #174EA6;\n",
              "    }\n",
              "\n",
              "    [theme=dark] .colab-df-convert {\n",
              "      background-color: #3B4455;\n",
              "      fill: #D2E3FC;\n",
              "    }\n",
              "\n",
              "    [theme=dark] .colab-df-convert:hover {\n",
              "      background-color: #434B5C;\n",
              "      box-shadow: 0px 1px 3px 1px rgba(0, 0, 0, 0.15);\n",
              "      filter: drop-shadow(0px 1px 2px rgba(0, 0, 0, 0.3));\n",
              "      fill: #FFFFFF;\n",
              "    }\n",
              "  </style>\n",
              "\n",
              "      <script>\n",
              "        const buttonEl =\n",
              "          document.querySelector('#df-481b4529-0c85-4b6a-9a4a-a69feab29a0d button.colab-df-convert');\n",
              "        buttonEl.style.display =\n",
              "          google.colab.kernel.accessAllowed ? 'block' : 'none';\n",
              "\n",
              "        async function convertToInteractive(key) {\n",
              "          const element = document.querySelector('#df-481b4529-0c85-4b6a-9a4a-a69feab29a0d');\n",
              "          const dataTable =\n",
              "            await google.colab.kernel.invokeFunction('convertToInteractive',\n",
              "                                                     [key], {});\n",
              "          if (!dataTable) return;\n",
              "\n",
              "          const docLinkHtml = 'Like what you see? Visit the ' +\n",
              "            '<a target=\"_blank\" href=https://colab.research.google.com/notebooks/data_table.ipynb>data table notebook</a>'\n",
              "            + ' to learn more about interactive tables.';\n",
              "          element.innerHTML = '';\n",
              "          dataTable['output_type'] = 'display_data';\n",
              "          await google.colab.output.renderOutput(dataTable, element);\n",
              "          const docLink = document.createElement('div');\n",
              "          docLink.innerHTML = docLinkHtml;\n",
              "          element.appendChild(docLink);\n",
              "        }\n",
              "      </script>\n",
              "    </div>\n",
              "  </div>\n",
              "  "
            ],
            "text/plain": [
              "    Gasto en Publicidad\n",
              "0            593.932154\n",
              "1            743.670430\n",
              "2            642.487038\n",
              "3            590.394865\n",
              "4            481.289319\n",
              "..                  ...\n",
              "95           264.872226\n",
              "96           627.861641\n",
              "97           118.096792\n",
              "98           846.046026\n",
              "99           104.225929\n",
              "\n",
              "[100 rows x 1 columns]"
            ]
          },
          "execution_count": 40,
          "metadata": {},
          "output_type": "execute_result"
        }
      ],
      "source": [
        "x=dataframe[[\"Gasto en Publicidad\"]]\n",
        "x"
      ]
    },
    {
      "cell_type": "code",
      "execution_count": null,
      "metadata": {
        "colab": {
          "base_uri": "https://localhost:8080/",
          "height": 423
        },
        "id": "rKj5r_eQ2OkB",
        "outputId": "293a7ae1-2938-4073-ce1a-8104279e49e0"
      },
      "outputs": [
        {
          "data": {
            "text/html": [
              "\n",
              "  <div id=\"df-5ce1ff46-27c0-468c-870d-a05af2db2d32\">\n",
              "    <div class=\"colab-df-container\">\n",
              "      <div>\n",
              "<style scoped>\n",
              "    .dataframe tbody tr th:only-of-type {\n",
              "        vertical-align: middle;\n",
              "    }\n",
              "\n",
              "    .dataframe tbody tr th {\n",
              "        vertical-align: top;\n",
              "    }\n",
              "\n",
              "    .dataframe thead th {\n",
              "        text-align: right;\n",
              "    }\n",
              "</style>\n",
              "<table border=\"1\" class=\"dataframe\">\n",
              "  <thead>\n",
              "    <tr style=\"text-align: right;\">\n",
              "      <th></th>\n",
              "      <th>Ventas</th>\n",
              "    </tr>\n",
              "  </thead>\n",
              "  <tbody>\n",
              "    <tr>\n",
              "      <th>0</th>\n",
              "      <td>26105.234131</td>\n",
              "    </tr>\n",
              "    <tr>\n",
              "      <th>1</th>\n",
              "      <td>36153.420339</td>\n",
              "    </tr>\n",
              "    <tr>\n",
              "      <th>2</th>\n",
              "      <td>30554.035033</td>\n",
              "    </tr>\n",
              "    <tr>\n",
              "      <th>3</th>\n",
              "      <td>28936.021218</td>\n",
              "    </tr>\n",
              "    <tr>\n",
              "      <th>4</th>\n",
              "      <td>22072.792618</td>\n",
              "    </tr>\n",
              "    <tr>\n",
              "      <th>...</th>\n",
              "      <td>...</td>\n",
              "    </tr>\n",
              "    <tr>\n",
              "      <th>95</th>\n",
              "      <td>12675.690453</td>\n",
              "    </tr>\n",
              "    <tr>\n",
              "      <th>96</th>\n",
              "      <td>27308.879490</td>\n",
              "    </tr>\n",
              "    <tr>\n",
              "      <th>97</th>\n",
              "      <td>6517.410585</td>\n",
              "    </tr>\n",
              "    <tr>\n",
              "      <th>98</th>\n",
              "      <td>34758.209585</td>\n",
              "    </tr>\n",
              "    <tr>\n",
              "      <th>99</th>\n",
              "      <td>5623.688753</td>\n",
              "    </tr>\n",
              "  </tbody>\n",
              "</table>\n",
              "<p>100 rows × 1 columns</p>\n",
              "</div>\n",
              "      <button class=\"colab-df-convert\" onclick=\"convertToInteractive('df-5ce1ff46-27c0-468c-870d-a05af2db2d32')\"\n",
              "              title=\"Convert this dataframe to an interactive table.\"\n",
              "              style=\"display:none;\">\n",
              "        \n",
              "  <svg xmlns=\"http://www.w3.org/2000/svg\" height=\"24px\"viewBox=\"0 0 24 24\"\n",
              "       width=\"24px\">\n",
              "    <path d=\"M0 0h24v24H0V0z\" fill=\"none\"/>\n",
              "    <path d=\"M18.56 5.44l.94 2.06.94-2.06 2.06-.94-2.06-.94-.94-2.06-.94 2.06-2.06.94zm-11 1L8.5 8.5l.94-2.06 2.06-.94-2.06-.94L8.5 2.5l-.94 2.06-2.06.94zm10 10l.94 2.06.94-2.06 2.06-.94-2.06-.94-.94-2.06-.94 2.06-2.06.94z\"/><path d=\"M17.41 7.96l-1.37-1.37c-.4-.4-.92-.59-1.43-.59-.52 0-1.04.2-1.43.59L10.3 9.45l-7.72 7.72c-.78.78-.78 2.05 0 2.83L4 21.41c.39.39.9.59 1.41.59.51 0 1.02-.2 1.41-.59l7.78-7.78 2.81-2.81c.8-.78.8-2.07 0-2.86zM5.41 20L4 18.59l7.72-7.72 1.47 1.35L5.41 20z\"/>\n",
              "  </svg>\n",
              "      </button>\n",
              "      \n",
              "  <style>\n",
              "    .colab-df-container {\n",
              "      display:flex;\n",
              "      flex-wrap:wrap;\n",
              "      gap: 12px;\n",
              "    }\n",
              "\n",
              "    .colab-df-convert {\n",
              "      background-color: #E8F0FE;\n",
              "      border: none;\n",
              "      border-radius: 50%;\n",
              "      cursor: pointer;\n",
              "      display: none;\n",
              "      fill: #1967D2;\n",
              "      height: 32px;\n",
              "      padding: 0 0 0 0;\n",
              "      width: 32px;\n",
              "    }\n",
              "\n",
              "    .colab-df-convert:hover {\n",
              "      background-color: #E2EBFA;\n",
              "      box-shadow: 0px 1px 2px rgba(60, 64, 67, 0.3), 0px 1px 3px 1px rgba(60, 64, 67, 0.15);\n",
              "      fill: #174EA6;\n",
              "    }\n",
              "\n",
              "    [theme=dark] .colab-df-convert {\n",
              "      background-color: #3B4455;\n",
              "      fill: #D2E3FC;\n",
              "    }\n",
              "\n",
              "    [theme=dark] .colab-df-convert:hover {\n",
              "      background-color: #434B5C;\n",
              "      box-shadow: 0px 1px 3px 1px rgba(0, 0, 0, 0.15);\n",
              "      filter: drop-shadow(0px 1px 2px rgba(0, 0, 0, 0.3));\n",
              "      fill: #FFFFFF;\n",
              "    }\n",
              "  </style>\n",
              "\n",
              "      <script>\n",
              "        const buttonEl =\n",
              "          document.querySelector('#df-5ce1ff46-27c0-468c-870d-a05af2db2d32 button.colab-df-convert');\n",
              "        buttonEl.style.display =\n",
              "          google.colab.kernel.accessAllowed ? 'block' : 'none';\n",
              "\n",
              "        async function convertToInteractive(key) {\n",
              "          const element = document.querySelector('#df-5ce1ff46-27c0-468c-870d-a05af2db2d32');\n",
              "          const dataTable =\n",
              "            await google.colab.kernel.invokeFunction('convertToInteractive',\n",
              "                                                     [key], {});\n",
              "          if (!dataTable) return;\n",
              "\n",
              "          const docLinkHtml = 'Like what you see? Visit the ' +\n",
              "            '<a target=\"_blank\" href=https://colab.research.google.com/notebooks/data_table.ipynb>data table notebook</a>'\n",
              "            + ' to learn more about interactive tables.';\n",
              "          element.innerHTML = '';\n",
              "          dataTable['output_type'] = 'display_data';\n",
              "          await google.colab.output.renderOutput(dataTable, element);\n",
              "          const docLink = document.createElement('div');\n",
              "          docLink.innerHTML = docLinkHtml;\n",
              "          element.appendChild(docLink);\n",
              "        }\n",
              "      </script>\n",
              "    </div>\n",
              "  </div>\n",
              "  "
            ],
            "text/plain": [
              "          Ventas\n",
              "0   26105.234131\n",
              "1   36153.420339\n",
              "2   30554.035033\n",
              "3   28936.021218\n",
              "4   22072.792618\n",
              "..           ...\n",
              "95  12675.690453\n",
              "96  27308.879490\n",
              "97   6517.410585\n",
              "98  34758.209585\n",
              "99   5623.688753\n",
              "\n",
              "[100 rows x 1 columns]"
            ]
          },
          "execution_count": 41,
          "metadata": {},
          "output_type": "execute_result"
        }
      ],
      "source": [
        "y=dataframe[[\"Ventas\"]]\n",
        "y\n"
      ]
    },
    {
      "cell_type": "code",
      "execution_count": null,
      "metadata": {
        "id": "SXSHJG5F2XRz"
      },
      "outputs": [],
      "source": [
        "import matplotlib.pyplot as plt\n"
      ]
    },
    {
      "cell_type": "code",
      "execution_count": null,
      "metadata": {
        "colab": {
          "base_uri": "https://localhost:8080/",
          "height": 467
        },
        "id": "KpPLF0wG2vkK",
        "outputId": "f1bfd4d6-2ddd-4789-c5f4-483ac2b15a8f"
      },
      "outputs": [
        {
          "data": {
            "text/plain": [
              "Text(0, 0.5, 'Ventas')"
            ]
          },
          "execution_count": 43,
          "metadata": {},
          "output_type": "execute_result"
        },
        {
          "data": {
            "image/png": "[encoded data removed]",
            "text/plain": [
              "<Figure size 640x480 with 1 Axes>"
            ]
          },
          "metadata": {},
          "output_type": "display_data"
        }
      ],
      "source": [
        "plt.scatter(x,y)\n",
        "plt.xlabel(\"Gasto en Publicidad\")\n",
        "plt.ylabel(\"Ventas\")"
      ]
    },
    {
      "cell_type": "markdown",
      "metadata": {
        "id": "JD89-WA15GiB"
      },
      "source": [
        "#Vanilla\n"
      ]
    },
    {
      "cell_type": "code",
      "execution_count": null,
      "metadata": {
        "id": "dkRDH_V35Cn6"
      },
      "outputs": [],
      "source": [
        "import numpy as np\n"
      ]
    },
    {
      "cell_type": "code",
      "execution_count": null,
      "metadata": {
        "colab": {
          "base_uri": "https://localhost:8080/"
        },
        "id": "hKnI2-nc5QAo",
        "outputId": "1e694384-3eea-4ad9-f5a5-ff77738ab35f"
      },
      "outputs": [
        {
          "data": {
            "text/plain": [
              "array([[  593.93215353, 26105.23413132],\n",
              "       [  743.67042974, 36153.42033908],\n",
              "       [  642.48703846, 30554.0350335 ],\n",
              "       [  590.3948647 , 28936.02121816],\n",
              "       [  481.28931941, 22072.79261758],\n",
              "       [  681.30470176, 35437.35567122],\n",
              "       [  493.82849014, 28402.94775395],\n",
              "       [  902.5957007 , 38207.51050232],\n",
              "       [  967.29648445, 48593.96394546],\n",
              "       [  445.09736694, 19085.00317825],\n",
              "       [  812.55253427, 44111.50668972],\n",
              "       [  576.00542778, 27725.11238896],\n",
              "       [  611.24010498, 31382.59533761],\n",
              "       [  933.03697446, 40839.28015941],\n",
              "       [  163.93245238,  7067.83970305],\n",
              "       [  178.41636973,  8948.85670243],\n",
              "       [  118.1965577 ,  5569.55633966],\n",
              "       [  849.35786099, 50128.16679771],\n",
              "       [  800.34107585, 44276.75898368],\n",
              "       [  883.01093342, 48582.1995089 ],\n",
              "       [  980.75650801, 57145.15571353],\n",
              "       [  819.2427078 , 34001.79684374],\n",
              "       [  515.33142603, 26177.45120059],\n",
              "       [  802.47625866, 41576.55339894],\n",
              "       [  206.44698328, 12112.34425998],\n",
              "       [  675.92891919, 31180.93812696],\n",
              "       [  229.01795867, 10222.43875995],\n",
              "       [  950.20202534, 39839.32567405],\n",
              "       [  569.66348958, 23166.02098816],\n",
              "       [  473.19574599, 27872.86768841],\n",
              "       [  338.10005089, 18240.73430175],\n",
              "       [  796.81032049, 44475.37615473],\n",
              "       [  510.53529899, 23211.95266683],\n",
              "       [  611.59055398, 31827.48702255],\n",
              "       [  116.91082039,  4799.17373123],\n",
              "       [  655.87194737, 32685.31387514],\n",
              "       [  650.88615045, 38854.93218663],\n",
              "       [  655.24059719, 37680.55928576],\n",
              "       [  949.37327066, 44457.12016575],\n",
              "       [  713.63826919, 42362.01665078],\n",
              "       [  423.55711052, 18942.70440197],\n",
              "       [  493.32875842, 28989.73577785],\n",
              "       [  727.86807633, 42848.52245138],\n",
              "       [  154.20292447,  8765.54309254],\n",
              "       [  700.0900439 , 36761.55144604],\n",
              "       [  703.57408266, 40430.52693413],\n",
              "       [  289.34430497, 13225.93185473],\n",
              "       [  216.03366789, 12494.28089013],\n",
              "       [  383.88551583, 20166.52836092],\n",
              "       [  427.33969385, 17247.4666324 ],\n",
              "       [  613.17709338, 28708.40491257],\n",
              "       [  494.74136212, 21309.40763038],\n",
              "       [  989.53645425, 58945.14436572],\n",
              "       [  191.84032967,  9512.21059093],\n",
              "       [  287.98908049, 14320.8442514 ],\n",
              "       [  245.1785661 , 13010.48506593],\n",
              "       [  687.79749292, 32639.7901589 ],\n",
              "       [  327.96244229, 13995.63076491],\n",
              "       [  519.67969557, 29371.54636029],\n",
              "       [  319.9830328 , 13904.97737362],\n",
              "       [  243.07262528, 12059.53220084],\n",
              "       [  199.33762705,  8911.74073729],\n",
              "       [  690.69663052, 28996.14968538],\n",
              "       [  224.36465621, 12906.99546017],\n",
              "       [  276.92412551, 16703.7770718 ],\n",
              "       [  431.85265359, 25667.3340275 ],\n",
              "       [  838.89390686, 48674.55174258],\n",
              "       [  187.39114821, 10508.33992628],\n",
              "       [  854.15041675, 39725.54733777],\n",
              "       [  186.4885671 ,  7715.87386388],\n",
              "       [  978.81351851, 47117.97985744],\n",
              "       [  521.78608148, 23466.30839208],\n",
              "       [  979.08497937, 41683.25675553],\n",
              "       [  644.36096777, 26380.32266818],\n",
              "       [  765.33722146, 41710.13109811],\n",
              "       [  135.26901303,  5375.32831351],\n",
              "       [  354.52626632, 19757.53655824],\n",
              "       [  208.17690509,  8830.9010099 ],\n",
              "       [  366.52617777, 15129.23874513],\n",
              "       [  206.85494706,  8601.11249595],\n",
              "       [  386.18486145, 20588.28500059],\n",
              "       [  472.83669506, 21426.79341958],\n",
              "       [  157.73274671,  7730.90885287],\n",
              "       [  723.22490743, 36999.81127169],\n",
              "       [  609.94130879, 34772.8229844 ],\n",
              "       [  338.85054185, 18565.64481877],\n",
              "       [  570.92324812, 25823.63810439],\n",
              "       [  184.54645968,  7712.67497999],\n",
              "       [  618.351846  , 25537.69308433],\n",
              "       [  936.36657782, 43134.49499881],\n",
              "       [  386.71205721, 17587.8531451 ],\n",
              "       [  700.66934197, 34450.72065968],\n",
              "       [  218.61807616, 11817.95912887],\n",
              "       [  744.69448371, 40083.2454308 ],\n",
              "       [  360.46548365, 16359.17022508],\n",
              "       [  264.87222581, 12675.69045315],\n",
              "       [  627.86164133, 27308.87949004],\n",
              "       [  118.09679157,  6517.41058516],\n",
              "       [  846.0460263 , 34758.20958485],\n",
              "       [  104.22592857,  5623.68875347]])"
            ]
          },
          "execution_count": 45,
          "metadata": {},
          "output_type": "execute_result"
        }
      ],
      "source": [
        "matriz=dataframe.to_numpy()\n",
        "matriz"
      ]
    },
    {
      "cell_type": "code",
      "execution_count": null,
      "metadata": {
        "id": "QdWvSFRW7-8q"
      },
      "outputs": [],
      "source": [
        "n = len(matriz)\n",
        "sumatoria_x = np.sum(matriz[:,0])\n",
        "sumatoria_y = np.sum(matriz[:,1])\n",
        "sumatoria_producto = np.sum(matriz[:,0] * matriz[:,1])\n",
        "sumatoria_cuadrado_x = np.sum(matriz[:,0] * matriz[:,0])\n"
      ]
    },
    {
      "cell_type": "code",
      "execution_count": null,
      "metadata": {
        "colab": {
          "base_uri": "https://localhost:8080/"
        },
        "id": "2z-g-sW-8CVD",
        "outputId": "5c872ee9-f83e-44c4-9068-313f6d568fb7"
      },
      "outputs": [
        {
          "name": "stdout",
          "output_type": "stream",
          "text": [
            "50.383568474088676\n",
            "-286.70853656116407\n"
          ]
        }
      ],
      "source": [
        "b1=(n*sumatoria_producto-sumatoria_x*sumatoria_y)/(n*sumatoria_cuadrado_x - sumatoria_x*sumatoria_x)\n",
        "b0=(sumatoria_y-b1*sumatoria_x)/n\n",
        "print(b1)\n",
        "print(b0)"
      ]
    },
    {
      "cell_type": "code",
      "execution_count": null,
      "metadata": {
        "id": "ttbPeCXv9M5A"
      },
      "outputs": [],
      "source": [
        "b1 = np.sum((matriz[:,0] - matriz[:,0].mean())*(matriz[:,1] - matriz[:,1].mean())) /np.sum((matriz[:,0] - matriz[:,0].mean())**2)"
      ]
    },
    {
      "cell_type": "code",
      "execution_count": null,
      "metadata": {
        "colab": {
          "base_uri": "https://localhost:8080/"
        },
        "id": "wUkAthYs-L3A",
        "outputId": "dca8e8fc-22fd-496d-e8bd-7665ec1e4e84"
      },
      "outputs": [
        {
          "name": "stdout",
          "output_type": "stream",
          "text": [
            "50.383568474088726\n",
            "-286.70853656118925\n"
          ]
        }
      ],
      "source": [
        "b0 = np.mean(matriz[:,1]) - b1*np.mean(matriz[:,0])\n",
        "print(b1)\n",
        "print(b0)\n"
      ]
    },
    {
      "cell_type": "code",
      "execution_count": null,
      "metadata": {
        "colab": {
          "base_uri": "https://localhost:8080/"
        },
        "id": "s6rF0K4WYdpe",
        "outputId": "b48c59ea-d391-4804-cf7e-8188faf7f642"
      },
      "outputs": [
        {
          "data": {
            "text/plain": [
              "9286.169473515694"
            ]
          },
          "execution_count": 56,
          "metadata": {},
          "output_type": "execute_result"
        }
      ],
      "source": [
        "x_pred = 190\n",
        "y_pred = b0 + b1 * x_pred\n",
        "y_pred"
      ]
    },
    {
      "cell_type": "markdown",
      "metadata": {
        "id": "wSiUMciN9k64"
      },
      "source": [
        "Sk"
      ]
    },
    {
      "cell_type": "code",
      "execution_count": null,
      "metadata": {
        "id": "4WI63KDF-ddP"
      },
      "outputs": [],
      "source": [
        "from sklearn.linear_model import LinearRegression\n",
        "from sklearn.metrics import mean_absolute_error"
      ]
    },
    {
      "cell_type": "code",
      "execution_count": null,
      "metadata": {
        "id": "2ubfB31n-5_3"
      },
      "outputs": [],
      "source": [
        "clf=LinearRegression()\n",
        "\n"
      ]
    },
    {
      "cell_type": "code",
      "execution_count": null,
      "metadata": {
        "colab": {
          "base_uri": "https://localhost:8080/",
          "height": 74
        },
        "id": "oLmk8x3H_B7M",
        "outputId": "d62b844f-d7af-479c-8721-ca5f085d3ec8"
      },
      "outputs": [
        {
          "data": {
            "text/html": [
              "<style>#sk-container-id-3 {color: black;background-color: white;}#sk-container-id-3 pre{padding: 0;}#sk-container-id-3 div.sk-toggleable {background-color: white;}#sk-container-id-3 label.sk-toggleable__label {cursor: pointer;display: block;width: 100%;margin-bottom: 0;padding: 0.3em;box-sizing: border-box;text-align: center;}#sk-container-id-3 label.sk-toggleable__label-arrow:before {content: \"▸\";float: left;margin-right: 0.25em;color: #696969;}#sk-container-id-3 label.sk-toggleable__label-arrow:hover:before {color: black;}#sk-container-id-3 div.sk-estimator:hover label.sk-toggleable__label-arrow:before {color: black;}#sk-container-id-3 div.sk-toggleable__content {max-height: 0;max-width: 0;overflow: hidden;text-align: left;background-color: #f0f8ff;}#sk-container-id-3 div.sk-toggleable__content pre {margin: 0.2em;color: black;border-radius: 0.25em;background-color: #f0f8ff;}#sk-container-id-3 input.sk-toggleable__control:checked~div.sk-toggleable__content {max-height: 200px;max-width: 100%;overflow: auto;}#sk-container-id-3 input.sk-toggleable__control:checked~label.sk-toggleable__label-arrow:before {content: \"▾\";}#sk-container-id-3 div.sk-estimator input.sk-toggleable__control:checked~label.sk-toggleable__label {background-color: #d4ebff;}#sk-container-id-3 div.sk-label input.sk-toggleable__control:checked~label.sk-toggleable__label {background-color: #d4ebff;}#sk-container-id-3 input.sk-hidden--visually {border: 0;clip: rect(1px 1px 1px 1px);clip: rect(1px, 1px, 1px, 1px);height: 1px;margin: -1px;overflow: hidden;padding: 0;position: absolute;width: 1px;}#sk-container-id-3 div.sk-estimator {font-family: monospace;background-color: #f0f8ff;border: 1px dotted black;border-radius: 0.25em;box-sizing: border-box;margin-bottom: 0.5em;}#sk-container-id-3 div.sk-estimator:hover {background-color: #d4ebff;}#sk-container-id-3 div.sk-parallel-item::after {content: \"\";width: 100%;border-bottom: 1px solid gray;flex-grow: 1;}#sk-container-id-3 div.sk-label:hover label.sk-toggleable__label {background-color: #d4ebff;}#sk-container-id-3 div.sk-serial::before {content: \"\";position: absolute;border-left: 1px solid gray;box-sizing: border-box;top: 0;bottom: 0;left: 50%;z-index: 0;}#sk-container-id-3 div.sk-serial {display: flex;flex-direction: column;align-items: center;background-color: white;padding-right: 0.2em;padding-left: 0.2em;position: relative;}#sk-container-id-3 div.sk-item {position: relative;z-index: 1;}#sk-container-id-3 div.sk-parallel {display: flex;align-items: stretch;justify-content: center;background-color: white;position: relative;}#sk-container-id-3 div.sk-item::before, #sk-container-id-3 div.sk-parallel-item::before {content: \"\";position: absolute;border-left: 1px solid gray;box-sizing: border-box;top: 0;bottom: 0;left: 50%;z-index: -1;}#sk-container-id-3 div.sk-parallel-item {display: flex;flex-direction: column;z-index: 1;position: relative;background-color: white;}#sk-container-id-3 div.sk-parallel-item:first-child::after {align-self: flex-end;width: 50%;}#sk-container-id-3 div.sk-parallel-item:last-child::after {align-self: flex-start;width: 50%;}#sk-container-id-3 div.sk-parallel-item:only-child::after {width: 0;}#sk-container-id-3 div.sk-dashed-wrapped {border: 1px dashed gray;margin: 0 0.4em 0.5em 0.4em;box-sizing: border-box;padding-bottom: 0.4em;background-color: white;}#sk-container-id-3 div.sk-label label {font-family: monospace;font-weight: bold;display: inline-block;line-height: 1.2em;}#sk-container-id-3 div.sk-label-container {text-align: center;}#sk-container-id-3 div.sk-container {/* jupyter's `normalize.less` sets `[hidden] { display: none; }` but bootstrap.min.css set `[hidden] { display: none !important; }` so we also need the `!important` here to be able to override the default hidden behavior on the sphinx rendered scikit-learn.org. See: https://github.com/scikit-learn/scikit-learn/issues/21755 */display: inline-block !important;position: relative;}#sk-container-id-3 div.sk-text-repr-fallback {display: none;}</style><div id=\"sk-container-id-3\" class=\"sk-top-container\"><div class=\"sk-text-repr-fallback\"><pre>LinearRegression()</pre><b>In a Jupyter environment, please rerun this cell to show the HTML representation or trust the notebook. <br />On GitHub, the HTML representation is unable to render, please try loading this page with nbviewer.org.</b></div><div class=\"sk-container\" hidden><div class=\"sk-item\"><div class=\"sk-estimator sk-toggleable\"><input class=\"sk-toggleable__control sk-hidden--visually\" id=\"sk-estimator-id-3\" type=\"checkbox\" checked><label for=\"sk-estimator-id-3\" class=\"sk-toggleable__label sk-toggleable__label-arrow\">LinearRegression</label><div class=\"sk-toggleable__content\"><pre>LinearRegression()</pre></div></div></div></div></div>"
            ],
            "text/plain": [
              "LinearRegression()"
            ]
          },
          "execution_count": 52,
          "metadata": {},
          "output_type": "execute_result"
        }
      ],
      "source": [
        "clf.fit(x,y)\n"
      ]
    },
    {
      "cell_type": "code",
      "execution_count": null,
      "metadata": {
        "colab": {
          "base_uri": "https://localhost:8080/"
        },
        "id": "P0GUjrJ9_TUY",
        "outputId": "8ff25031-3590-47e9-8a15-28e8725a95de"
      },
      "outputs": [
        {
          "name": "stderr",
          "output_type": "stream",
          "text": [
            "/usr/local/lib/python3.10/dist-packages/sklearn/base.py:439: UserWarning: X does not have valid feature names, but LinearRegression was fitted with feature names\n",
            "  warnings.warn(\n"
          ]
        },
        {
          "data": {
            "text/plain": [
              "array([[9286.16947352]])"
            ]
          },
          "execution_count": 54,
          "metadata": {},
          "output_type": "execute_result"
        }
      ],
      "source": [
        "clf.predict([[190]])"
      ]
    },
    {
      "cell_type": "code",
      "execution_count": null,
      "metadata": {
        "colab": {
          "base_uri": "https://localhost:8080/"
        },
        "id": "HAFXEpVg_OgX",
        "outputId": "bd0c8468-80c1-4fa3-e0e6-6b4c7d88e795"
      },
      "outputs": [
        {
          "data": {
            "text/plain": [
              "array([[50.38356847]])"
            ]
          },
          "execution_count": 53,
          "metadata": {},
          "output_type": "execute_result"
        }
      ],
      "source": [
        "clf.coef_"
      ]
    },
    {
      "cell_type": "code",
      "execution_count": null,
      "metadata": {
        "id": "OCUasEuCZ7uC"
      },
      "outputs": [],
      "source": [
        "predicciones=clf.predict(x)"
      ]
    },
    {
      "cell_type": "code",
      "execution_count": null,
      "metadata": {
        "colab": {
          "base_uri": "https://localhost:8080/",
          "height": 472
        },
        "id": "xyl3eNleaK4a",
        "outputId": "d53739a0-82ca-4277-d444-6cc4e62b6dda"
      },
      "outputs": [
        {
          "data": {
            "image/png": "[encoded data removed]",
            "text/plain": [
              "<Figure size 640x480 with 1 Axes>"
            ]
          },
          "metadata": {},
          "output_type": "display_data"
        }
      ],
      "source": [
        "plt.plot(x, y)\n",
        "plt.plot(x, predicciones)\n",
        "plt.title(\"Regresion Lineal Simple\")\n",
        "plt.xlabel(\"Reduccion de solidos\")\n",
        "plt.ylabel(\"Reduccion de la demanda de oxigeno\")\n",
        "plt.legend([\"y\", \"predicciones\"])\n",
        "plt.grid()\n",
        "plt.show()\n"
      ]
    }
  ],
  "metadata": {
    "colab": {
      "provenance": [],
      "include_colab_link": true
    },
    "kernelspec": {
      "display_name": "Python 3",
      "name": "python3"
    },
    "language_info": {
      "name": "python"
    }
  },
  "nbformat": 4,
  "nbformat_minor": 0
}